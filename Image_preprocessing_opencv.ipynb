{
  "nbformat": 4,
  "nbformat_minor": 0,
  "metadata": {
    "colab": {
      "name": "Image_preprocessing_opencv.ipynb",
      "provenance": [],
      "collapsed_sections": []
    },
    "kernelspec": {
      "name": "python3",
      "display_name": "Python 3"
    }
  },
  "cells": [
    {
      "cell_type": "code",
      "metadata": {
        "id": "MtHixYJ-vtjA"
      },
      "source": [
        "import cv2\n",
        "import numpy as np\n",
        "from matplotlib import pyplot as plt"
      ],
      "execution_count": null,
      "outputs": []
    },
    {
      "cell_type": "code",
      "metadata": {
        "id": "LA-9ubzymPW4",
        "outputId": "bff937be-8111-4320-a5ad-7e070606fc96",
        "colab": {
          "base_uri": "https://localhost:8080/",
          "height": 350
        }
      },
      "source": [
        "def segment(img):\n",
        "  gray = cv2.cvtColor(img, cv2.COLOR_BGR2GRAY) \n",
        "  \n",
        "  ret, thresh = cv2.threshold(gray, 0, 255, \n",
        "                            cv2.THRESH_BINARY_INV +\n",
        "                            cv2.THRESH_OTSU) \n",
        "  #cv2.imshow('image', thresh) \n",
        "  kernel = np.ones((3, 3), np.uint8) \n",
        "  closing = cv2.morphologyEx(thresh, cv2.MORPH_CLOSE, \n",
        "                            kernel, iterations = 2) \n",
        "  \n",
        "  # Background area using Dialation \n",
        "  bg = cv2.dilate(closing, kernel, iterations = 1) \n",
        "  \n",
        "  # Finding foreground area \n",
        "  dist_transform = cv2.distanceTransform(closing, cv2.DIST_L2, 0) \n",
        "  ret, fg = cv2.threshold(dist_transform, 0.02\n",
        "                        * dist_transform.max(), 255, 0)\n",
        "  #cv2.imshow('image', fg)\n",
        "  im=(255-fg)\n",
        "  cv2.imwrite('/content/output.jpg',im)\n",
        "  return im\n",
        "img = cv2.imread('/content/0001_0021.JPG')\n",
        "fb = segment(img)\n",
        "'''plt.subplot(121),plt.imshow(img),plt.title('Original')\n",
        "plt.xticks([]), plt.yticks([])\n",
        "plt.subplot(122),plt.imshow(fb),plt.title('Averaging')\n",
        "plt.xticks([]), plt.yticks([])\n",
        "plt.show()'''"
      ],
      "execution_count": null,
      "outputs": [
        {
          "output_type": "error",
          "ename": "error",
          "evalue": "ignored",
          "traceback": [
            "\u001b[0;31m---------------------------------------------------------------------------\u001b[0m",
            "\u001b[0;31merror\u001b[0m                                     Traceback (most recent call last)",
            "\u001b[0;32m<ipython-input-5-931d9e601f30>\u001b[0m in \u001b[0;36m<module>\u001b[0;34m()\u001b[0m\n\u001b[1;32m     22\u001b[0m   \u001b[0;32mreturn\u001b[0m \u001b[0mim\u001b[0m\u001b[0;34m\u001b[0m\u001b[0;34m\u001b[0m\u001b[0m\n\u001b[1;32m     23\u001b[0m \u001b[0mimg\u001b[0m \u001b[0;34m=\u001b[0m \u001b[0mcv2\u001b[0m\u001b[0;34m.\u001b[0m\u001b[0mimread\u001b[0m\u001b[0;34m(\u001b[0m\u001b[0;34m'/content/0001_0021.JPG'\u001b[0m\u001b[0;34m)\u001b[0m\u001b[0;34m\u001b[0m\u001b[0;34m\u001b[0m\u001b[0m\n\u001b[0;32m---> 24\u001b[0;31m \u001b[0mfb\u001b[0m \u001b[0;34m=\u001b[0m \u001b[0msegment\u001b[0m\u001b[0;34m(\u001b[0m\u001b[0mimg\u001b[0m\u001b[0;34m)\u001b[0m\u001b[0;34m\u001b[0m\u001b[0;34m\u001b[0m\u001b[0m\n\u001b[0m\u001b[1;32m     25\u001b[0m '''plt.subplot(121),plt.imshow(img),plt.title('Original')\n\u001b[1;32m     26\u001b[0m \u001b[0mplt\u001b[0m\u001b[0;34m.\u001b[0m\u001b[0mxticks\u001b[0m\u001b[0;34m(\u001b[0m\u001b[0;34m[\u001b[0m\u001b[0;34m]\u001b[0m\u001b[0;34m)\u001b[0m\u001b[0;34m,\u001b[0m \u001b[0mplt\u001b[0m\u001b[0;34m.\u001b[0m\u001b[0myticks\u001b[0m\u001b[0;34m(\u001b[0m\u001b[0;34m[\u001b[0m\u001b[0;34m]\u001b[0m\u001b[0;34m)\u001b[0m\u001b[0;34m\u001b[0m\u001b[0;34m\u001b[0m\u001b[0m\n",
            "\u001b[0;32m<ipython-input-5-931d9e601f30>\u001b[0m in \u001b[0;36msegment\u001b[0;34m(img)\u001b[0m\n\u001b[1;32m      1\u001b[0m \u001b[0;32mdef\u001b[0m \u001b[0msegment\u001b[0m\u001b[0;34m(\u001b[0m\u001b[0mimg\u001b[0m\u001b[0;34m)\u001b[0m\u001b[0;34m:\u001b[0m\u001b[0;34m\u001b[0m\u001b[0;34m\u001b[0m\u001b[0m\n\u001b[0;32m----> 2\u001b[0;31m   \u001b[0mgray\u001b[0m \u001b[0;34m=\u001b[0m \u001b[0mcv2\u001b[0m\u001b[0;34m.\u001b[0m\u001b[0mcvtColor\u001b[0m\u001b[0;34m(\u001b[0m\u001b[0mimg\u001b[0m\u001b[0;34m,\u001b[0m \u001b[0mcv2\u001b[0m\u001b[0;34m.\u001b[0m\u001b[0mCOLOR_BGR2GRAY\u001b[0m\u001b[0;34m)\u001b[0m\u001b[0;34m\u001b[0m\u001b[0;34m\u001b[0m\u001b[0m\n\u001b[0m\u001b[1;32m      3\u001b[0m \u001b[0;34m\u001b[0m\u001b[0m\n\u001b[1;32m      4\u001b[0m   ret, thresh = cv2.threshold(gray, 0, 255, \n\u001b[1;32m      5\u001b[0m                             \u001b[0mcv2\u001b[0m\u001b[0;34m.\u001b[0m\u001b[0mTHRESH_BINARY_INV\u001b[0m \u001b[0;34m+\u001b[0m\u001b[0;34m\u001b[0m\u001b[0;34m\u001b[0m\u001b[0m\n",
            "\u001b[0;31merror\u001b[0m: OpenCV(4.1.2) /io/opencv/modules/imgproc/src/color.cpp:182: error: (-215:Assertion failed) !_src.empty() in function 'cvtColor'\n"
          ]
        }
      ]
    },
    {
      "cell_type": "code",
      "metadata": {
        "id": "mguyuhASv4Pf"
      },
      "source": [
        "import skimage.exposure\n",
        "img =cv2.imread(\"/content/0001_0015.JPG\")\n",
        "hsv = cv2.cvtColor(img, cv2.COLOR_BGR2HSV)\n",
        "#to get gray scale image\n",
        "\n",
        "mask = cv2.inRange(hsv, (35, 25, 25), (90, 255,255))\n",
        "mask = 255 - mask\n",
        "\n",
        "# apply morphology opening to mask\n",
        "kernel = np.ones((3,3), np.uint8)\n",
        "mask = cv2.morphologyEx(mask, cv2.MORPH_ERODE, kernel)\n",
        "mask = cv2.morphologyEx(mask, cv2.MORPH_CLOSE, kernel)\n",
        "\n",
        "# antialias mask\n",
        "mask = cv2.GaussianBlur(mask, (0,0), sigmaX=3, sigmaY=3, borderType = cv2.BORDER_DEFAULT)\n",
        "mask = skimage.exposure.rescale_intensity(mask, in_range=(127.5,255), out_range=(0,255))\n",
        "\n",
        "result = img.copy()\n",
        "result[mask==0] = (255,255,255)\n",
        "cv2.imwrite(\"/content/kupa.jpg\",result)\n",
        "\n",
        "imask = mask>0\n",
        "green = np.zeros_like(img, np.uint8)\n",
        "green[imask] = img[imask]\n",
        "#to get result with particular color\n",
        "'''res = cv2.bitwise_or(img,img, mask= mask)'''\n",
        "\n",
        "#if (window size increases and divident is less image colour gets increased)\n",
        "'''kernel = np.ones((5,5),np.float32)/15 #4x4 window size and the valuse with that windowa are summed up and diveide by(16) which is 4*4. \n",
        "dst = cv2.filter2D(res,-1,kernel)\n",
        "#gr = cv2.cvtColor(dst, cv2.COLOR_BGR2GRAY)\n",
        "cv2.imwrite(\"/content/result.jpg\",mask)\n",
        "#blurring with gaussian filter\n",
        "gblur=cv2.GaussianBlur(gr,(5,5),0)\n",
        "# this will remove the salt and peper noise with given percerbtage\n",
        "mblur=cv2.medianBlur(dst,5)'''\n",
        "cv2.imwrite(\"/content/kupa.jpg\",gblur)\n",
        "plt.subplot(121),plt.imshow(dst),plt.title('Original')\n",
        "plt.xticks([]), plt.yticks([])\n",
        "plt.subplot(122),plt.imshow(gblur),plt.title('Averaging')\n",
        "plt.xticks([]), plt.yticks([])\n",
        "plt.show()\n",
        "print(gblur.shape)"
      ],
      "execution_count": null,
      "outputs": []
    },
    {
      "cell_type": "code",
      "metadata": {
        "id": "vo0tfgm82Yoi"
      },
      "source": [
        "print(img.shape)\n",
        "print(mask.shape)\n",
        "print(dst.shape)\n",
        "print(mblur.shape)\n",
        "h1=224\n",
        "w1=224\n",
        "dimension=(w1,h1)\n",
        "re_img=cv2.resize(img,dimension,interpolation=cv2.INTER_AREA)\n",
        "plt.subplot(121),plt.imshow(re_img),plt.title('Original')\n",
        "cv2.imwrite(\"/content/resized.jpg\",re_img)\n",
        "print(re_img.shape)\n",
        "#to get the nerves and etm of the leaf\n",
        "edged = cv2.Canny(re_img, 20, 35)\n",
        "plt.subplot(122),plt.imshow(edged),plt.title('Original')\n",
        "cv2.imwrite(\"/content/cropped.jpg\",edged)\n",
        "print(edged.shape)\n"
      ],
      "execution_count": null,
      "outputs": []
    }
  ]
}